{
 "cells": [
  {
   "cell_type": "code",
   "execution_count": 5,
   "metadata": {},
   "outputs": [],
   "source": [
    "def n_carrots(garden):\n",
    "\n",
    "#Dimension of the garden\n",
    "    n=len(garden)  \n",
    "    m=len(garden[0])\n",
    "    number=0\n",
    "    print(m,n)\n",
    "    \n",
    "#Bunny starts in the middle:\n",
    "    x=m//2\n",
    "    y=n//2\n",
    "    print('start',x,y,garden[x][y])\n",
    "    \n",
    "    while (x < m) and (y < n) and (x > -1) and (y > -1): # Bunny cannot move outside\n",
    "    #Number of carrots are in his cell. \n",
    "        \n",
    "        number+=garden[x][y] \n",
    "        print(number)\n",
    "        \n",
    "    #The garden cell where the bunny is now empty\n",
    "        garden[x][y]=0\n",
    "        \n",
    "    # Bunny looks at in all directions\n",
    "    # Figure out the cell where the maximum is.  Order the cells up, down, right, left as 1,2,3,4 \n",
    "        max_carrots_arr=[garden[x][y+1],garden[x][y-1],garden[x+1][y],garden[x-1][y]]\n",
    "        \n",
    "        max_carrots=0\n",
    "        n_location=0\n",
    "    \n",
    "        for i in range(len(max_carrots_arr)):\n",
    "            if max_carrots_arr[i] > max_carrots:\n",
    "                max_carrots=max_carrots_arr[i]\n",
    "                n_location=i+1\n",
    "        \n",
    "        if (max_carrots==0):  # If there are no carrots in all peripheral cells, then the bunny falls asleep\n",
    "            break\n",
    "            \n",
    "        print(\"n_location\",n_location)   \n",
    "        \n",
    "         # If maximum number of carrots are found, check which location to go to.\n",
    "      # New Location finder        \n",
    "        if (n_location==1):y=y+1\n",
    "        if (n_location==2):y=y-1\n",
    "        if (n_location==3):x=x+1    \n",
    "        if (n_location==4):x=x-1    \n",
    "\n",
    "        print(x,y) \n",
    "        \n",
    "    return number"
   ]
  },
  {
   "cell_type": "code",
   "execution_count": 6,
   "metadata": {},
   "outputs": [
    {
     "name": "stdout",
     "output_type": "stream",
     "text": [
      "5 4\n",
      "start 2 2 3\n",
      "3\n",
      "n_location 4\n",
      "1 2\n",
      "10\n",
      "n_location 4\n",
      "0 2\n",
      "18\n",
      "n_location 2\n",
      "0 1\n",
      "25\n",
      "n_location 2\n",
      "0 0\n",
      "30\n",
      "n_location 2\n",
      "0 -1\n"
     ]
    },
    {
     "data": {
      "text/plain": [
       "30"
      ]
     },
     "execution_count": 6,
     "metadata": {},
     "output_type": "execute_result"
    }
   ],
   "source": [
    "garden1= [[5, 7, 8, 6, 3],\n",
    "[0, 0, 7, 0, 4],\n",
    "[4, 6, 3, 4, 9],\n",
    "[3, 1, 0, 5, 8]]\n",
    "n_carrots(garden1)"
   ]
  }
 ],
 "metadata": {
  "kernelspec": {
   "display_name": "Python 3",
   "language": "python",
   "name": "python3"
  },
  "language_info": {
   "codemirror_mode": {
    "name": "ipython",
    "version": 3
   },
   "file_extension": ".py",
   "mimetype": "text/x-python",
   "name": "python",
   "nbconvert_exporter": "python",
   "pygments_lexer": "ipython3",
   "version": "3.6.6"
  }
 },
 "nbformat": 4,
 "nbformat_minor": 2
}
